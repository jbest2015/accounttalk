{
 "cells": [
  {
   "attachments": {},
   "cell_type": "markdown",
   "metadata": {},
   "source": [
    "This notebook is for data preparation of your csv file which presumably was downloaded from your home banking software. "
   ]
  },
  {
   "attachments": {},
   "cell_type": "markdown",
   "metadata": {},
   "source": [
    "First we need to install the libraries we are going to use. "
   ]
  },
  {
   "cell_type": "code",
   "execution_count": null,
   "metadata": {},
   "outputs": [],
   "source": [
    " !pip install openai pandas"
   ]
  },
  {
   "attachments": {},
   "cell_type": "markdown",
   "metadata": {},
   "source": [
    "set up the program and load the libraries "
   ]
  },
  {
   "cell_type": "code",
   "execution_count": null,
   "metadata": {},
   "outputs": [],
   "source": [
    "import pandas as pd\n",
    "import openai\n",
    "import time\n",
    "\n",
    "openai.api_key = \"\""
   ]
  },
  {
   "attachments": {},
   "cell_type": "markdown",
   "metadata": {},
   "source": [
    "Below is loading the data. nrows limits the amount of data that gets loaded. You can change the name and path to the file as needed. "
   ]
  },
  {
   "cell_type": "code",
   "execution_count": null,
   "metadata": {},
   "outputs": [],
   "source": [
    "# Load the financial data from a CSV file\n",
    "data = pd.read_csv(\"data.csv\",nrows=1500)"
   ]
  },
  {
   "attachments": {},
   "cell_type": "markdown",
   "metadata": {},
   "source": [
    "Define the OpenAI model and prompt for categorization"
   ]
  },
  {
   "cell_type": "code",
   "execution_count": null,
   "metadata": {},
   "outputs": [],
   "source": [
    "# Define the OpenAI model and prompt for categorization\n",
    "model = \"text-davinci-003\"\n",
    "prompt_intro = \"The following is a financial transaction description and the spending categories they fall into:\"\n",
    "start_sequence = \"please respond with category equals \\n\"\n",
    "number_rows = 1500"
   ]
  },
  {
   "cell_type": "code",
   "execution_count": null,
   "metadata": {},
   "outputs": [],
   "source": [
    "\n",
    "\n",
    "# Initialize validation statistics variables\n",
    "total = 0\n",
    "\n",
    "# Define a list of descriptions to categorize\n",
    "descriptions = list(data[\"Description\"][:number_rows])\n",
    "print(descriptions)\n",
    "\n",
    "# Use OpenAI's API to categorize the descriptions\n",
    "categories = []\n",
    "\n",
    "for description in descriptions:\n",
    "    final_prompt = prompt_intro + description + start_sequence\n",
    "    response = None\n",
    "    while response is None:\n",
    "        try:\n",
    "            response = openai.Completion.create(\n",
    "                engine=model,\n",
    "                prompt=final_prompt,\n",
    "                max_tokens=1024,\n",
    "                n=1,\n",
    "                stop=None,\n",
    "                temperature=0.5,\n",
    "            )\n",
    "        except openai.error.APIError as e:\n",
    "            print(f\"API request failed: {e}\")\n",
    "            print(\"Retrying in 1 minute...\")\n",
    "            time.sleep(60)\n",
    "\n",
    "    for choice in response.choices:\n",
    "        response_text = choice.text.strip()\n",
    "        print(f\"the response_text is {response_text}\")\n",
    "        if \"Category:\" in response_text:\n",
    "            # Extract the category from the \"Category:\" line and remove the prefix\n",
    "            category = response_text.split(\"Category:\")[1].strip()\n",
    "            category = category.replace(\",\", \"\")  # Remove any commas in the category string\n",
    "        elif \"Transfer\" in response_text:\n",
    "        # Set the category to \"Transfer Fees\" if the response contains this string\n",
    "            category = \"Transfer\"\n",
    "        elif \"Category =\" in response_text:\n",
    "        # Extract the category from the \"Category:\" line and remove the prefix\n",
    "            category = response_text.split(\"Category =\")[1].strip()\n",
    "            category = category.replace(\",\", \"\")  # Remove any commas in the category string\n",
    "        elif \"Category=\" in response_text:\n",
    "        # Extract the category from the \"Category:\" line and remove the prefix\n",
    "            category = response_text.split(\"Category=\")[1].strip()\n",
    "            category = category.replace(\",\", \"\")  # Remove any commas in the category string\n",
    "        else:\n",
    "            # Set the category to \"Unknown\" if the pattern doesn't match\n",
    "            category = response_text\n",
    "    print(category)\n",
    "    total += 1\n",
    "    print(f\"total={total}\")\n",
    "    categories.append(category)\n",
    "\n",
    "    # Introduce a delay of 1 second between API requests\n",
    "    time.sleep(.5)\n",
    "\n",
    "# Add the categories to the data DataFrame\n",
    "#data.loc[\"Category\"] = categories \n",
    "data.loc[:number_rows-1, \"Category\"] = categories \n",
    "\n",
    "# Write the updated data to a new CSV file\n",
    "data.to_csv(\"data_cat2.csv\", index=False)"
   ]
  }
 ],
 "metadata": {
  "language_info": {
   "name": "python"
  },
  "orig_nbformat": 4
 },
 "nbformat": 4,
 "nbformat_minor": 2
}
